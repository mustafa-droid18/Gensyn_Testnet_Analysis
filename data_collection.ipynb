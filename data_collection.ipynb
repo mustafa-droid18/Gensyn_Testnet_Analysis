{
 "cells": [
  {
   "cell_type": "code",
   "execution_count": 1,
   "id": "b481f1b3",
   "metadata": {},
   "outputs": [
    {
     "name": "stdout",
     "output_type": "stream",
     "text": [
      "✅ Connected: True\n",
      "Fetching latest 100000 blocks: from 5058073 to 5158072 in batches of 10000\n",
      "\n",
      "Processing batch 1/10: blocks 5058073 to 5068072\n"
     ]
    },
    {
     "name": "stderr",
     "output_type": "stream",
     "text": [
      "Blocks: 100%|██████████| 10000/10000 [10:22<00:00, 16.07it/s]\n"
     ]
    },
    {
     "name": "stdout",
     "output_type": "stream",
     "text": [
      "Saved batch to gensyn_blocks_5058073_5068072.json\n",
      "\n",
      "Processing batch 2/10: blocks 5068073 to 5078072\n"
     ]
    },
    {
     "name": "stderr",
     "output_type": "stream",
     "text": [
      "Blocks: 100%|██████████| 10000/10000 [09:36<00:00, 17.34it/s]\n"
     ]
    },
    {
     "name": "stdout",
     "output_type": "stream",
     "text": [
      "Saved batch to gensyn_blocks_5068073_5078072.json\n",
      "\n",
      "Processing batch 3/10: blocks 5078073 to 5088072\n"
     ]
    },
    {
     "name": "stderr",
     "output_type": "stream",
     "text": [
      "Blocks: 100%|██████████| 10000/10000 [09:29<00:00, 17.57it/s]\n"
     ]
    },
    {
     "name": "stdout",
     "output_type": "stream",
     "text": [
      "Saved batch to gensyn_blocks_5078073_5088072.json\n",
      "\n",
      "Processing batch 4/10: blocks 5088073 to 5098072\n"
     ]
    },
    {
     "name": "stderr",
     "output_type": "stream",
     "text": [
      "Blocks: 100%|██████████| 10000/10000 [10:01<00:00, 16.61it/s]\n"
     ]
    },
    {
     "name": "stdout",
     "output_type": "stream",
     "text": [
      "Saved batch to gensyn_blocks_5088073_5098072.json\n",
      "\n",
      "Processing batch 5/10: blocks 5098073 to 5108072\n"
     ]
    },
    {
     "name": "stderr",
     "output_type": "stream",
     "text": [
      "Blocks: 100%|██████████| 10000/10000 [09:51<00:00, 16.90it/s]\n"
     ]
    },
    {
     "name": "stdout",
     "output_type": "stream",
     "text": [
      "Saved batch to gensyn_blocks_5098073_5108072.json\n",
      "\n",
      "Processing batch 6/10: blocks 5108073 to 5118072\n"
     ]
    },
    {
     "name": "stderr",
     "output_type": "stream",
     "text": [
      "Blocks: 100%|██████████| 10000/10000 [10:31<00:00, 15.83it/s] \n"
     ]
    },
    {
     "name": "stdout",
     "output_type": "stream",
     "text": [
      "Saved batch to gensyn_blocks_5108073_5118072.json\n",
      "\n",
      "Processing batch 7/10: blocks 5118073 to 5128072\n"
     ]
    },
    {
     "name": "stderr",
     "output_type": "stream",
     "text": [
      "Blocks: 100%|██████████| 10000/10000 [10:37<00:00, 15.69it/s]\n"
     ]
    },
    {
     "name": "stdout",
     "output_type": "stream",
     "text": [
      "Saved batch to gensyn_blocks_5118073_5128072.json\n",
      "\n",
      "Processing batch 8/10: blocks 5128073 to 5138072\n"
     ]
    },
    {
     "name": "stderr",
     "output_type": "stream",
     "text": [
      "Blocks: 100%|██████████| 10000/10000 [09:52<00:00, 16.86it/s]\n"
     ]
    },
    {
     "name": "stdout",
     "output_type": "stream",
     "text": [
      "Saved batch to gensyn_blocks_5128073_5138072.json\n",
      "\n",
      "Processing batch 9/10: blocks 5138073 to 5148072\n"
     ]
    },
    {
     "name": "stderr",
     "output_type": "stream",
     "text": [
      "Blocks: 100%|██████████| 10000/10000 [10:06<00:00, 16.50it/s] \n"
     ]
    },
    {
     "name": "stdout",
     "output_type": "stream",
     "text": [
      "Saved batch to gensyn_blocks_5138073_5148072.json\n",
      "\n",
      "Processing batch 10/10: blocks 5148073 to 5158072\n"
     ]
    },
    {
     "name": "stderr",
     "output_type": "stream",
     "text": [
      "Blocks: 100%|██████████| 10000/10000 [09:49<00:00, 16.97it/s]\n"
     ]
    },
    {
     "name": "stdout",
     "output_type": "stream",
     "text": [
      "Saved batch to gensyn_blocks_5148073_5158072.json\n",
      "\n",
      "✅ Finished fetching blocks.\n"
     ]
    }
   ],
   "source": [
    "from web3 import Web3\n",
    "import json\n",
    "from tqdm import tqdm\n",
    "import time\n",
    "from hexbytes import HexBytes\n",
    "\n",
    "# Connect to Gensyn Testnet\n",
    "web3 = Web3(Web3.HTTPProvider(\"https://gensyn-testnet.g.alchemy.com/v2/K2RfQySTi3Dtrcv7XuI7lE1FMJMX25vg\"))\n",
    "print(\"✅ Connected:\", web3.is_connected())\n",
    "\n",
    "# Settings\n",
    "MAX_BLOCKS = 100000\n",
    "batch_size = 10000\n",
    "\n",
    "latest_block = web3.eth.block_number\n",
    "start_block = max(0, latest_block - MAX_BLOCKS + 1)\n",
    "end_block = latest_block\n",
    "\n",
    "print(f\"Fetching latest {MAX_BLOCKS} blocks: from {start_block} to {end_block} in batches of {batch_size}\")\n",
    "total_batches = ((end_block - start_block) // batch_size) + 1\n",
    "current_batch_num = 1\n",
    "\n",
    "for batch_start in range(start_block, end_block + 1, batch_size):\n",
    "    batch_end = min(batch_start + batch_size - 1, end_block)\n",
    "    print(f\"\\nProcessing batch {current_batch_num}/{total_batches}: blocks {batch_start} to {batch_end}\")\n",
    "\n",
    "    batch_data = []\n",
    "\n",
    "    for block_num in tqdm(range(batch_start, batch_end + 1), desc=\"Blocks\"):\n",
    "        try:\n",
    "            block = web3.eth.get_block(block_num, full_transactions=True)\n",
    "        except Exception as e:\n",
    "            print(f\"⚠️ Error fetching block {block_num}: {e}\")\n",
    "            continue\n",
    "\n",
    "        block_info = {\n",
    "            \"block_number\": block.number,\n",
    "            \"timestamp\": block.timestamp,\n",
    "            \"gas_used\": block.gasUsed,\n",
    "            \"gas_limit\": block.gasLimit,\n",
    "            \"base_fee_per_gas\": int(block.get(\"baseFeePerGas\", 0)),\n",
    "            \"miner\": str(block.get(\"miner\")),\n",
    "            \"size\": block.get(\"size\"),\n",
    "            \"tx_count\": len(block.transactions),\n",
    "            \"transactions\": []\n",
    "        }\n",
    "\n",
    "        for tx in block.transactions:\n",
    "            tx_data = {\n",
    "                \"hash\": tx.hash.hex(),\n",
    "                \"from\": str(tx['from']),\n",
    "                \"to\": str(tx['to']) if tx['to'] else None,\n",
    "                \"value\": float(web3.from_wei(tx['value'], 'ether')),\n",
    "                \"gas\": tx['gas'],\n",
    "                \"gas_price\": int(tx['gasPrice']),\n",
    "                \"input\": tx['input'].hex() if isinstance(tx['input'], (bytes, HexBytes)) else tx['input'],\n",
    "                \"nonce\": tx['nonce'],\n",
    "                \"transaction_type\": tx.get('type', None),\n",
    "                \"max_fee_per_gas\": int(tx.get('maxFeePerGas', 0)) if tx.get('maxFeePerGas') else None,\n",
    "                \"max_priority_fee_per_gas\": int(tx.get('maxPriorityFeePerGas', 0)) if tx.get('maxPriorityFeePerGas') else None\n",
    "            }\n",
    "            block_info[\"transactions\"].append(tx_data)\n",
    "\n",
    "        batch_data.append(block_info)\n",
    "\n",
    "    filename = f\"gensyn_blocks_{batch_start}_{batch_end}.json\"\n",
    "    with open(filename, \"w\") as f:\n",
    "        json.dump(batch_data, f, indent=2)\n",
    "\n",
    "    print(f\"Saved batch to {filename}\")\n",
    "    current_batch_num += 1\n",
    "    time.sleep(1)\n",
    "\n",
    "print(\"\\n✅ Finished fetching blocks.\")\n"
   ]
  },
  {
   "cell_type": "markdown",
   "id": "3581966b",
   "metadata": {},
   "source": [
    "## Gensyn Testnet Data Extraction – AFYD Summary\n",
    "\n",
    "### D — Do (What was done)\n",
    "\n",
    "Extracted 100,000 of the most recent blocks from the Gensyn testnet using Alchemy’s EVM-compatible API.\n",
    "\n",
    "For each block, the following data was collected:\n",
    "\n",
    "- **Block-level fields**:\n",
    "  - Block number\n",
    "  - Timestamp\n",
    "  - Gas used\n",
    "  - Gas limit\n",
    "  - Base fee per gas\n",
    "  - Block size\n",
    "  - Miner address\n",
    "  - Transaction count\n",
    "\n",
    "- **Transaction-level fields**:\n",
    "  - Transaction hash\n",
    "  - Sender and receiver addresses\n",
    "  - Value (in Ether)\n",
    "  - Gas and gas price\n",
    "  - Nonce\n",
    "  - Input data\n",
    "  - Transaction type\n",
    "  - Max fee per gas\n",
    "  - Max priority fee per gas\n",
    "\n",
    "The data was saved as structured JSON files in batches of 10,000 blocks per file, totaling 10 batch files for 100,000 blocks.\n",
    "\n",
    "---\n",
    "\n",
    "### Y — Why (Reasoning)\n",
    "\n",
    "The goal of this step was to prepare a clean and comprehensive dataset for downstream analysis of activity on the Gensyn testnet.\n",
    "\n",
    "By extracting both high-level block metadata and detailed transaction-level fields, the dataset enables flexible analysis of contract interactions, address activity, and gas fee behavior.\n",
    "\n",
    "EIP-1559 fee fields and smart contract indicators (e.g., input data) were included to support future exploration of gas dynamics and contract usage.\n",
    "\n",
    "---\n",
    "\n",
    "### F — Find (Initial Findings)\n",
    "\n",
    "No specific analysis has been performed yet. At this stage, the dataset has been extracted and saved for further exploration.\n",
    "\n",
    "---\n",
    "\n",
    "### A — Answer (Conclusion)\n",
    "\n",
    "The data extraction process successfully created a complete and extensible dataset containing block-level and transaction-level details from the Gensyn testnet.\n",
    "\n",
    "This dataset will now serve as the foundation for subsequent analysis tasks such as identifying active users, smart contract patterns, gas fee trends, and block composition characteristics.\n"
   ]
  },
  {
   "cell_type": "code",
   "execution_count": null,
   "id": "924854c4",
   "metadata": {},
   "outputs": [],
   "source": [
    "all_tx = []\n",
    "\n",
    "for file in tqdm(sorted(glob.glob(\"gensyn_blocks_*.json\"))):\n",
    "    try:\n",
    "        with open(file, \"r\") as f:\n",
    "            data = json.load(f)\n",
    "    except json.JSONDecodeError as e:\n",
    "        print(f\"❌ Skipping file {file} due to JSONDecodeError: {e}\")\n",
    "        continue\n",
    "\n",
    "    for block in data:\n",
    "        for tx in block[\"transactions\"]:\n",
    "            all_tx.append({\n",
    "                # Block-level info\n",
    "                \"block_number\": block[\"block_number\"],\n",
    "                \"timestamp\": block[\"timestamp\"],\n",
    "                \"gas_used_block\": block[\"gas_used\"],\n",
    "                \"gas_limit_block\": block[\"gas_limit\"],\n",
    "                \"base_fee_per_gas\": block.get(\"base_fee_per_gas\", None),\n",
    "                \"block_miner\": block.get(\"miner\", None),\n",
    "                \"block_size\": block.get(\"size\", None),\n",
    "                \"tx_count_in_block\": block[\"tx_count\"],\n",
    "\n",
    "                # Transaction-level info\n",
    "                \"tx_hash\": tx.get(\"hash\"),\n",
    "                \"from\": tx.get(\"from\"),\n",
    "                \"to\": tx.get(\"to\"),\n",
    "                \"value_eth\": float(tx.get(\"value\", 0)),\n",
    "                \"gas\": tx.get(\"gas\", None),\n",
    "                \"gas_price\": tx.get(\"gas_price\", None),\n",
    "                \"input\": tx.get(\"input\", None),\n",
    "                \"nonce\": tx.get(\"nonce\", None),\n",
    "                \"transaction_type\": tx.get(\"transaction_type\", None),\n",
    "                \"max_fee_per_gas\": tx.get(\"max_fee_per_gas\", None),\n",
    "                \"max_priority_fee_per_gas\": tx.get(\"max_priority_fee_per_gas\", None)\n",
    "            })\n",
    "\n",
    "# Create DataFrame\n",
    "df = pd.DataFrame(all_tx)\n",
    "\n",
    "# Convert timestamp to datetime\n",
    "df[\"timestamp\"] = pd.to_datetime(df[\"timestamp\"], unit=\"s\", errors=\"coerce\")\n",
    "\n",
    "# Add extra fields for analysis\n",
    "df[\"date\"] = df[\"timestamp\"].dt.date\n",
    "df[\"hour\"] = df[\"timestamp\"].dt.hour\n",
    "df[\"weekday\"] = df[\"timestamp\"].dt.day_name()\n",
    "\n",
    "# Save to CSV\n",
    "df.to_csv(\"gensyn_transactions_flat_full.csv\", index=False)\n",
    "\n",
    "# Preview\n",
    "print(f\"✅ Loaded {len(df):,} transactions with extended metadata.\")\n",
    "print(df.head())\n"
   ]
  }
 ],
 "metadata": {
  "kernelspec": {
   "display_name": "Python 3",
   "language": "python",
   "name": "python3"
  },
  "language_info": {
   "codemirror_mode": {
    "name": "ipython",
    "version": 3
   },
   "file_extension": ".py",
   "mimetype": "text/x-python",
   "name": "python",
   "nbconvert_exporter": "python",
   "pygments_lexer": "ipython3",
   "version": "3.10.10"
  }
 },
 "nbformat": 4,
 "nbformat_minor": 5
}
